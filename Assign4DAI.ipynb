{
  "nbformat": 4,
  "nbformat_minor": 0,
  "metadata": {
    "colab": {
      "name": "Assign4DAI.ipynb",
      "version": "0.3.2",
      "provenance": [],
      "collapsed_sections": []
    },
    "kernelspec": {
      "name": "python3",
      "display_name": "Python 3"
    }
  },
  "cells": [
    {
      "cell_type": "markdown",
      "metadata": {
        "id": "mSM_jJop_MMt",
        "colab_type": "text"
      },
      "source": [
        "<h1>Assignment4</h1>\n",
        "\n",
        "Priyanka Raavi\n",
        "\n",
        "Student ID: 200393260\n",
        "\n",
        "Email: priyankaravi03@gmail.com"
      ]
    },
    {
      "cell_type": "markdown",
      "metadata": {
        "id": "jrQZNm7z_SPK",
        "colab_type": "text"
      },
      "source": [
        "<h4>Problem Statement</h4>\n",
        "Our problem Statement is, How can I survive on mushrooms by identifying whether it is poisonous or edible, which means which factors should be considered to identify whether a mushroom is edible or poisonous. \n",
        "\n",
        "Based on the problem statement, we have to classify because we have only to separate, which are poisonous or edible and also, our data set is large and has the labeled data."
      ]
    },
    {
      "cell_type": "code",
      "metadata": {
        "id": "JsjYjTf9_ZWs",
        "colab_type": "code",
        "colab": {
          "base_uri": "https://localhost:8080/",
          "height": 34
        },
        "outputId": "e34b8078-501c-4866-e58f-50b4ff8ae76a"
      },
      "source": [
        "from google.colab import drive\n",
        "drive.mount('/content/gdrive', force_remount=True)"
      ],
      "execution_count": 1,
      "outputs": [
        {
          "output_type": "stream",
          "text": [
            "Mounted at /content/gdrive\n"
          ],
          "name": "stdout"
        }
      ]
    },
    {
      "cell_type": "code",
      "metadata": {
        "id": "uPGe9G5F_bEa",
        "colab_type": "code",
        "colab": {
          "base_uri": "https://localhost:8080/",
          "height": 34
        },
        "outputId": "e7c11c79-2423-4ad0-ab3e-5fa1e4135582"
      },
      "source": [
        "cd /content/gdrive"
      ],
      "execution_count": 2,
      "outputs": [
        {
          "output_type": "stream",
          "text": [
            "/content/gdrive\n"
          ],
          "name": "stdout"
        }
      ]
    },
    {
      "cell_type": "code",
      "metadata": {
        "id": "f0tueupj_hz5",
        "colab_type": "code",
        "colab": {
          "base_uri": "https://localhost:8080/",
          "height": 34
        },
        "outputId": "78c9ae4e-4e6e-4ccb-c62c-bc5e786f8002"
      },
      "source": [
        "cd My\\ Drive"
      ],
      "execution_count": 3,
      "outputs": [
        {
          "output_type": "stream",
          "text": [
            "/content/gdrive/My Drive\n"
          ],
          "name": "stdout"
        }
      ]
    },
    {
      "cell_type": "code",
      "metadata": {
        "id": "dtLjqCFe_jcg",
        "colab_type": "code",
        "colab": {}
      },
      "source": [
        "import numpy as np\n",
        "import pandas as pd\n",
        "import matplotlib.pyplot as plt\n",
        "import matplotlib as mlt\n",
        "import seaborn as sns\n",
        "# Warnings\n",
        "import warnings\n",
        "warnings.filterwarnings('ignore')"
      ],
      "execution_count": 0,
      "outputs": []
    },
    {
      "cell_type": "code",
      "metadata": {
        "id": "n6jFENVc_l6S",
        "colab_type": "code",
        "colab": {}
      },
      "source": [
        "%matplotlib inline\n",
        "%precision 3\n",
        "plt.style.use('ggplot')\n",
        "sns.set_style('white')"
      ],
      "execution_count": 0,
      "outputs": []
    },
    {
      "cell_type": "code",
      "metadata": {
        "id": "FXsYzDix_p3P",
        "colab_type": "code",
        "colab": {}
      },
      "source": [
        "mushrooms = pd.read_csv('mushrooms.csv') "
      ],
      "execution_count": 0,
      "outputs": []
    },
    {
      "cell_type": "markdown",
      "metadata": {
        "id": "fzzUTmiQ_tFP",
        "colab_type": "text"
      },
      "source": [
        "<h3>Part A: Determine a proper model</h3>\n",
        "\n",
        "To define our problem statement, we need a perfect model. To know which model suits best with the data, I would like to perform multiple machine learning algorithm to do classification on the data and see which algorithm gives good accuracy will select that model to continue our problem statement.\n",
        "\n",
        "The machine learning algorithms are of three types[1]:\n",
        "\n",
        "    1.Supervised Learning\n",
        "    2.Unsupervised Learning\n",
        "    3.Reinforcement Learning\n",
        "\n",
        "\n",
        "<h4>1. Supervised Learning:</h4>\n",
        "\n",
        "   This algorithm has a target variable(dependent) and labeled data(independent). We will split the data into train data and test data. Using this train data, we will use functions that generate the desired outputs, which provides excellent accuracy. This process will continue until we get the desired accuracy on the training data.\n",
        "\n",
        "<h4>2. Unsupervised Learning:</h4>\n",
        "  \n",
        "   This algorithm doesn't have any separation of target and predicate variables. In this algorithm, we will draw inferences from the input data without any labeled data. It is mostly a clustering analysis.\n",
        "   \n",
        "<h4>Reinforcement Learning</h4>\n",
        "\n",
        "This algorithm is more used to make particular business decisions. In this algorithm, we will get the results based on past experiences. This algorithm is more exposed to the environment and learns itself by trail and error."
      ]
    },
    {
      "cell_type": "markdown",
      "metadata": {
        "id": "ylt64JJG_zYF",
        "colab_type": "text"
      },
      "source": [
        "I'm going to apply supervised machine learning algorithms on our data set to test which algorithm is best suited for the data. I have taken the supervised learning algorithms because, our data set is more of labeled data, and based on our problem statement, we have a target variable(class). So, In my opinion, supervised learning algorithms are best suited. Here, I would like to perform five supervised learning algorithms:\n",
        "1. Logistic Regression\n",
        "2. Support Vector Machines\n",
        "3. K-nearest Neighbours(K-NN)\n",
        "4. Naive-Bayes Classifier\n",
        "5. Decision Tree Classifier\n",
        "\n",
        "I will explain each algorithm in detail while performing it.\n",
        "\n",
        "Before going to perform the algorithms, we have to preprocess the data because all the variables in the data set are categorical. So, Let's preprocess the data.\n",
        "\n",
        "<h4> Data Preprocessing</h4>\n",
        "\n",
        "I'm converting the categorical variables(23) into dummy variables up to 95 variables and then reduce the shape using PCA(Principal Component Analysis) with two variables.\n",
        "\n",
        "First, Let's split the data into predictors and responses.\n",
        "\n",
        "Predicators are the independent variables(all the variables except class) whereas, the response is the class variable(target variable).\n"
      ]
    },
    {
      "cell_type": "code",
      "metadata": {
        "id": "6EbKdW90_6ws",
        "colab_type": "code",
        "colab": {
          "base_uri": "https://localhost:8080/",
          "height": 267
        },
        "outputId": "3814deea-4867-43a1-b5e5-bcf6ba5aeb21"
      },
      "source": [
        "pred=mushrooms.drop('class',axis=1) #Predictors\n",
        "resp=mushrooms['class'] #Response\n",
        "pred.head()"
      ],
      "execution_count": 7,
      "outputs": [
        {
          "output_type": "execute_result",
          "data": {
            "text/html": [
              "<div>\n",
              "<style scoped>\n",
              "    .dataframe tbody tr th:only-of-type {\n",
              "        vertical-align: middle;\n",
              "    }\n",
              "\n",
              "    .dataframe tbody tr th {\n",
              "        vertical-align: top;\n",
              "    }\n",
              "\n",
              "    .dataframe thead th {\n",
              "        text-align: right;\n",
              "    }\n",
              "</style>\n",
              "<table border=\"1\" class=\"dataframe\">\n",
              "  <thead>\n",
              "    <tr style=\"text-align: right;\">\n",
              "      <th></th>\n",
              "      <th>cap-shape</th>\n",
              "      <th>cap-surface</th>\n",
              "      <th>cap-color</th>\n",
              "      <th>bruises</th>\n",
              "      <th>odor</th>\n",
              "      <th>gill-attachment</th>\n",
              "      <th>gill-spacing</th>\n",
              "      <th>gill-size</th>\n",
              "      <th>gill-color</th>\n",
              "      <th>stalk-shape</th>\n",
              "      <th>stalk-root</th>\n",
              "      <th>stalk-surface-above-ring</th>\n",
              "      <th>stalk-surface-below-ring</th>\n",
              "      <th>stalk-color-above-ring</th>\n",
              "      <th>stalk-color-below-ring</th>\n",
              "      <th>veil-type</th>\n",
              "      <th>veil-color</th>\n",
              "      <th>ring-number</th>\n",
              "      <th>ring-type</th>\n",
              "      <th>spore-print-color</th>\n",
              "      <th>population</th>\n",
              "      <th>habitat</th>\n",
              "    </tr>\n",
              "  </thead>\n",
              "  <tbody>\n",
              "    <tr>\n",
              "      <th>0</th>\n",
              "      <td>x</td>\n",
              "      <td>s</td>\n",
              "      <td>n</td>\n",
              "      <td>t</td>\n",
              "      <td>p</td>\n",
              "      <td>f</td>\n",
              "      <td>c</td>\n",
              "      <td>n</td>\n",
              "      <td>k</td>\n",
              "      <td>e</td>\n",
              "      <td>e</td>\n",
              "      <td>s</td>\n",
              "      <td>s</td>\n",
              "      <td>w</td>\n",
              "      <td>w</td>\n",
              "      <td>p</td>\n",
              "      <td>w</td>\n",
              "      <td>o</td>\n",
              "      <td>p</td>\n",
              "      <td>k</td>\n",
              "      <td>s</td>\n",
              "      <td>u</td>\n",
              "    </tr>\n",
              "    <tr>\n",
              "      <th>1</th>\n",
              "      <td>x</td>\n",
              "      <td>s</td>\n",
              "      <td>y</td>\n",
              "      <td>t</td>\n",
              "      <td>a</td>\n",
              "      <td>f</td>\n",
              "      <td>c</td>\n",
              "      <td>b</td>\n",
              "      <td>k</td>\n",
              "      <td>e</td>\n",
              "      <td>c</td>\n",
              "      <td>s</td>\n",
              "      <td>s</td>\n",
              "      <td>w</td>\n",
              "      <td>w</td>\n",
              "      <td>p</td>\n",
              "      <td>w</td>\n",
              "      <td>o</td>\n",
              "      <td>p</td>\n",
              "      <td>n</td>\n",
              "      <td>n</td>\n",
              "      <td>g</td>\n",
              "    </tr>\n",
              "    <tr>\n",
              "      <th>2</th>\n",
              "      <td>b</td>\n",
              "      <td>s</td>\n",
              "      <td>w</td>\n",
              "      <td>t</td>\n",
              "      <td>l</td>\n",
              "      <td>f</td>\n",
              "      <td>c</td>\n",
              "      <td>b</td>\n",
              "      <td>n</td>\n",
              "      <td>e</td>\n",
              "      <td>c</td>\n",
              "      <td>s</td>\n",
              "      <td>s</td>\n",
              "      <td>w</td>\n",
              "      <td>w</td>\n",
              "      <td>p</td>\n",
              "      <td>w</td>\n",
              "      <td>o</td>\n",
              "      <td>p</td>\n",
              "      <td>n</td>\n",
              "      <td>n</td>\n",
              "      <td>m</td>\n",
              "    </tr>\n",
              "    <tr>\n",
              "      <th>3</th>\n",
              "      <td>x</td>\n",
              "      <td>y</td>\n",
              "      <td>w</td>\n",
              "      <td>t</td>\n",
              "      <td>p</td>\n",
              "      <td>f</td>\n",
              "      <td>c</td>\n",
              "      <td>n</td>\n",
              "      <td>n</td>\n",
              "      <td>e</td>\n",
              "      <td>e</td>\n",
              "      <td>s</td>\n",
              "      <td>s</td>\n",
              "      <td>w</td>\n",
              "      <td>w</td>\n",
              "      <td>p</td>\n",
              "      <td>w</td>\n",
              "      <td>o</td>\n",
              "      <td>p</td>\n",
              "      <td>k</td>\n",
              "      <td>s</td>\n",
              "      <td>u</td>\n",
              "    </tr>\n",
              "    <tr>\n",
              "      <th>4</th>\n",
              "      <td>x</td>\n",
              "      <td>s</td>\n",
              "      <td>g</td>\n",
              "      <td>f</td>\n",
              "      <td>n</td>\n",
              "      <td>f</td>\n",
              "      <td>w</td>\n",
              "      <td>b</td>\n",
              "      <td>k</td>\n",
              "      <td>t</td>\n",
              "      <td>e</td>\n",
              "      <td>s</td>\n",
              "      <td>s</td>\n",
              "      <td>w</td>\n",
              "      <td>w</td>\n",
              "      <td>p</td>\n",
              "      <td>w</td>\n",
              "      <td>o</td>\n",
              "      <td>e</td>\n",
              "      <td>n</td>\n",
              "      <td>a</td>\n",
              "      <td>g</td>\n",
              "    </tr>\n",
              "  </tbody>\n",
              "</table>\n",
              "</div>"
            ],
            "text/plain": [
              "  cap-shape cap-surface cap-color  ... spore-print-color population habitat\n",
              "0         x           s         n  ...                 k          s       u\n",
              "1         x           s         y  ...                 n          n       g\n",
              "2         b           s         w  ...                 n          n       m\n",
              "3         x           y         w  ...                 k          s       u\n",
              "4         x           s         g  ...                 n          a       g\n",
              "\n",
              "[5 rows x 22 columns]"
            ]
          },
          "metadata": {
            "tags": []
          },
          "execution_count": 7
        }
      ]
    },
    {
      "cell_type": "markdown",
      "metadata": {
        "id": "2qopIuzZ__UD",
        "colab_type": "text"
      },
      "source": [
        "Converting or Encoding the Categorical data:"
      ]
    },
    {
      "cell_type": "code",
      "metadata": {
        "id": "Fh_DCHDZ_7Nu",
        "colab_type": "code",
        "colab": {}
      },
      "source": [
        "from sklearn.preprocessing import LabelEncoder\n",
        "Encoder_pred = LabelEncoder() \n",
        "for col in pred.columns:\n",
        "    pred[col] = Encoder_pred.fit_transform(pred[col])\n",
        "Encoder_resp=LabelEncoder()\n",
        "resp = Encoder_pred.fit_transform(resp)\n"
      ],
      "execution_count": 0,
      "outputs": []
    },
    {
      "cell_type": "code",
      "metadata": {
        "id": "qBb1O5SN_9HD",
        "colab_type": "code",
        "colab": {
          "base_uri": "https://localhost:8080/",
          "height": 267
        },
        "outputId": "49ac7115-f30c-44e9-bd08-5c190d54ed8c"
      },
      "source": [
        "pred.head()"
      ],
      "execution_count": 9,
      "outputs": [
        {
          "output_type": "execute_result",
          "data": {
            "text/html": [
              "<div>\n",
              "<style scoped>\n",
              "    .dataframe tbody tr th:only-of-type {\n",
              "        vertical-align: middle;\n",
              "    }\n",
              "\n",
              "    .dataframe tbody tr th {\n",
              "        vertical-align: top;\n",
              "    }\n",
              "\n",
              "    .dataframe thead th {\n",
              "        text-align: right;\n",
              "    }\n",
              "</style>\n",
              "<table border=\"1\" class=\"dataframe\">\n",
              "  <thead>\n",
              "    <tr style=\"text-align: right;\">\n",
              "      <th></th>\n",
              "      <th>cap-shape</th>\n",
              "      <th>cap-surface</th>\n",
              "      <th>cap-color</th>\n",
              "      <th>bruises</th>\n",
              "      <th>odor</th>\n",
              "      <th>gill-attachment</th>\n",
              "      <th>gill-spacing</th>\n",
              "      <th>gill-size</th>\n",
              "      <th>gill-color</th>\n",
              "      <th>stalk-shape</th>\n",
              "      <th>stalk-root</th>\n",
              "      <th>stalk-surface-above-ring</th>\n",
              "      <th>stalk-surface-below-ring</th>\n",
              "      <th>stalk-color-above-ring</th>\n",
              "      <th>stalk-color-below-ring</th>\n",
              "      <th>veil-type</th>\n",
              "      <th>veil-color</th>\n",
              "      <th>ring-number</th>\n",
              "      <th>ring-type</th>\n",
              "      <th>spore-print-color</th>\n",
              "      <th>population</th>\n",
              "      <th>habitat</th>\n",
              "    </tr>\n",
              "  </thead>\n",
              "  <tbody>\n",
              "    <tr>\n",
              "      <th>0</th>\n",
              "      <td>5</td>\n",
              "      <td>2</td>\n",
              "      <td>4</td>\n",
              "      <td>1</td>\n",
              "      <td>6</td>\n",
              "      <td>1</td>\n",
              "      <td>0</td>\n",
              "      <td>1</td>\n",
              "      <td>4</td>\n",
              "      <td>0</td>\n",
              "      <td>3</td>\n",
              "      <td>2</td>\n",
              "      <td>2</td>\n",
              "      <td>7</td>\n",
              "      <td>7</td>\n",
              "      <td>0</td>\n",
              "      <td>2</td>\n",
              "      <td>1</td>\n",
              "      <td>4</td>\n",
              "      <td>2</td>\n",
              "      <td>3</td>\n",
              "      <td>5</td>\n",
              "    </tr>\n",
              "    <tr>\n",
              "      <th>1</th>\n",
              "      <td>5</td>\n",
              "      <td>2</td>\n",
              "      <td>9</td>\n",
              "      <td>1</td>\n",
              "      <td>0</td>\n",
              "      <td>1</td>\n",
              "      <td>0</td>\n",
              "      <td>0</td>\n",
              "      <td>4</td>\n",
              "      <td>0</td>\n",
              "      <td>2</td>\n",
              "      <td>2</td>\n",
              "      <td>2</td>\n",
              "      <td>7</td>\n",
              "      <td>7</td>\n",
              "      <td>0</td>\n",
              "      <td>2</td>\n",
              "      <td>1</td>\n",
              "      <td>4</td>\n",
              "      <td>3</td>\n",
              "      <td>2</td>\n",
              "      <td>1</td>\n",
              "    </tr>\n",
              "    <tr>\n",
              "      <th>2</th>\n",
              "      <td>0</td>\n",
              "      <td>2</td>\n",
              "      <td>8</td>\n",
              "      <td>1</td>\n",
              "      <td>3</td>\n",
              "      <td>1</td>\n",
              "      <td>0</td>\n",
              "      <td>0</td>\n",
              "      <td>5</td>\n",
              "      <td>0</td>\n",
              "      <td>2</td>\n",
              "      <td>2</td>\n",
              "      <td>2</td>\n",
              "      <td>7</td>\n",
              "      <td>7</td>\n",
              "      <td>0</td>\n",
              "      <td>2</td>\n",
              "      <td>1</td>\n",
              "      <td>4</td>\n",
              "      <td>3</td>\n",
              "      <td>2</td>\n",
              "      <td>3</td>\n",
              "    </tr>\n",
              "    <tr>\n",
              "      <th>3</th>\n",
              "      <td>5</td>\n",
              "      <td>3</td>\n",
              "      <td>8</td>\n",
              "      <td>1</td>\n",
              "      <td>6</td>\n",
              "      <td>1</td>\n",
              "      <td>0</td>\n",
              "      <td>1</td>\n",
              "      <td>5</td>\n",
              "      <td>0</td>\n",
              "      <td>3</td>\n",
              "      <td>2</td>\n",
              "      <td>2</td>\n",
              "      <td>7</td>\n",
              "      <td>7</td>\n",
              "      <td>0</td>\n",
              "      <td>2</td>\n",
              "      <td>1</td>\n",
              "      <td>4</td>\n",
              "      <td>2</td>\n",
              "      <td>3</td>\n",
              "      <td>5</td>\n",
              "    </tr>\n",
              "    <tr>\n",
              "      <th>4</th>\n",
              "      <td>5</td>\n",
              "      <td>2</td>\n",
              "      <td>3</td>\n",
              "      <td>0</td>\n",
              "      <td>5</td>\n",
              "      <td>1</td>\n",
              "      <td>1</td>\n",
              "      <td>0</td>\n",
              "      <td>4</td>\n",
              "      <td>1</td>\n",
              "      <td>3</td>\n",
              "      <td>2</td>\n",
              "      <td>2</td>\n",
              "      <td>7</td>\n",
              "      <td>7</td>\n",
              "      <td>0</td>\n",
              "      <td>2</td>\n",
              "      <td>1</td>\n",
              "      <td>0</td>\n",
              "      <td>3</td>\n",
              "      <td>0</td>\n",
              "      <td>1</td>\n",
              "    </tr>\n",
              "  </tbody>\n",
              "</table>\n",
              "</div>"
            ],
            "text/plain": [
              "   cap-shape  cap-surface  cap-color  ...  spore-print-color  population  habitat\n",
              "0          5            2          4  ...                  2           3        5\n",
              "1          5            2          9  ...                  3           2        1\n",
              "2          0            2          8  ...                  3           2        3\n",
              "3          5            3          8  ...                  2           3        5\n",
              "4          5            2          3  ...                  3           0        1\n",
              "\n",
              "[5 rows x 22 columns]"
            ]
          },
          "metadata": {
            "tags": []
          },
          "execution_count": 9
        }
      ]
    },
    {
      "cell_type": "code",
      "metadata": {
        "id": "hHDhPUi6ACAK",
        "colab_type": "code",
        "colab": {
          "base_uri": "https://localhost:8080/",
          "height": 34
        },
        "outputId": "7c4883c4-9d97-445e-8092-fbe9f92e1ae4"
      },
      "source": [
        "resp   # here 1 means poisonous, 0 means edible"
      ],
      "execution_count": 10,
      "outputs": [
        {
          "output_type": "execute_result",
          "data": {
            "text/plain": [
              "array([1, 0, 0, ..., 0, 1, 0])"
            ]
          },
          "metadata": {
            "tags": []
          },
          "execution_count": 10
        }
      ]
    },
    {
      "cell_type": "markdown",
      "metadata": {
        "id": "9b-dib-HAFt4",
        "colab_type": "text"
      },
      "source": [
        "Now, Let's create the dummy variables using the pandas library in such a way that, based on the number of unique values. It creates no. of variables based on no. of unique values in each variable. For example, cap-shape has 5 values, so it created 5 variables. 0 and 1 represent true or false values."
      ]
    },
    {
      "cell_type": "code",
      "metadata": {
        "id": "b_Js1lRBADdg",
        "colab_type": "code",
        "colab": {
          "base_uri": "https://localhost:8080/",
          "height": 296
        },
        "outputId": "4819ab9d-0d7f-49bc-a940-e08b8de4f18b"
      },
      "source": [
        "pred=pd.get_dummies(pred,columns=pred.columns,drop_first=True)\n",
        "pred.head()"
      ],
      "execution_count": 11,
      "outputs": [
        {
          "output_type": "execute_result",
          "data": {
            "text/html": [
              "<div>\n",
              "<style scoped>\n",
              "    .dataframe tbody tr th:only-of-type {\n",
              "        vertical-align: middle;\n",
              "    }\n",
              "\n",
              "    .dataframe tbody tr th {\n",
              "        vertical-align: top;\n",
              "    }\n",
              "\n",
              "    .dataframe thead th {\n",
              "        text-align: right;\n",
              "    }\n",
              "</style>\n",
              "<table border=\"1\" class=\"dataframe\">\n",
              "  <thead>\n",
              "    <tr style=\"text-align: right;\">\n",
              "      <th></th>\n",
              "      <th>cap-shape_1</th>\n",
              "      <th>cap-shape_2</th>\n",
              "      <th>cap-shape_3</th>\n",
              "      <th>cap-shape_4</th>\n",
              "      <th>cap-shape_5</th>\n",
              "      <th>cap-surface_1</th>\n",
              "      <th>cap-surface_2</th>\n",
              "      <th>cap-surface_3</th>\n",
              "      <th>cap-color_1</th>\n",
              "      <th>cap-color_2</th>\n",
              "      <th>cap-color_3</th>\n",
              "      <th>cap-color_4</th>\n",
              "      <th>cap-color_5</th>\n",
              "      <th>cap-color_6</th>\n",
              "      <th>cap-color_7</th>\n",
              "      <th>cap-color_8</th>\n",
              "      <th>cap-color_9</th>\n",
              "      <th>bruises_1</th>\n",
              "      <th>odor_1</th>\n",
              "      <th>odor_2</th>\n",
              "      <th>odor_3</th>\n",
              "      <th>odor_4</th>\n",
              "      <th>odor_5</th>\n",
              "      <th>odor_6</th>\n",
              "      <th>odor_7</th>\n",
              "      <th>odor_8</th>\n",
              "      <th>gill-attachment_1</th>\n",
              "      <th>gill-spacing_1</th>\n",
              "      <th>gill-size_1</th>\n",
              "      <th>gill-color_1</th>\n",
              "      <th>gill-color_2</th>\n",
              "      <th>gill-color_3</th>\n",
              "      <th>gill-color_4</th>\n",
              "      <th>gill-color_5</th>\n",
              "      <th>gill-color_6</th>\n",
              "      <th>gill-color_7</th>\n",
              "      <th>gill-color_8</th>\n",
              "      <th>gill-color_9</th>\n",
              "      <th>gill-color_10</th>\n",
              "      <th>gill-color_11</th>\n",
              "      <th>...</th>\n",
              "      <th>stalk-color-above-ring_5</th>\n",
              "      <th>stalk-color-above-ring_6</th>\n",
              "      <th>stalk-color-above-ring_7</th>\n",
              "      <th>stalk-color-above-ring_8</th>\n",
              "      <th>stalk-color-below-ring_1</th>\n",
              "      <th>stalk-color-below-ring_2</th>\n",
              "      <th>stalk-color-below-ring_3</th>\n",
              "      <th>stalk-color-below-ring_4</th>\n",
              "      <th>stalk-color-below-ring_5</th>\n",
              "      <th>stalk-color-below-ring_6</th>\n",
              "      <th>stalk-color-below-ring_7</th>\n",
              "      <th>stalk-color-below-ring_8</th>\n",
              "      <th>veil-color_1</th>\n",
              "      <th>veil-color_2</th>\n",
              "      <th>veil-color_3</th>\n",
              "      <th>ring-number_1</th>\n",
              "      <th>ring-number_2</th>\n",
              "      <th>ring-type_1</th>\n",
              "      <th>ring-type_2</th>\n",
              "      <th>ring-type_3</th>\n",
              "      <th>ring-type_4</th>\n",
              "      <th>spore-print-color_1</th>\n",
              "      <th>spore-print-color_2</th>\n",
              "      <th>spore-print-color_3</th>\n",
              "      <th>spore-print-color_4</th>\n",
              "      <th>spore-print-color_5</th>\n",
              "      <th>spore-print-color_6</th>\n",
              "      <th>spore-print-color_7</th>\n",
              "      <th>spore-print-color_8</th>\n",
              "      <th>population_1</th>\n",
              "      <th>population_2</th>\n",
              "      <th>population_3</th>\n",
              "      <th>population_4</th>\n",
              "      <th>population_5</th>\n",
              "      <th>habitat_1</th>\n",
              "      <th>habitat_2</th>\n",
              "      <th>habitat_3</th>\n",
              "      <th>habitat_4</th>\n",
              "      <th>habitat_5</th>\n",
              "      <th>habitat_6</th>\n",
              "    </tr>\n",
              "  </thead>\n",
              "  <tbody>\n",
              "    <tr>\n",
              "      <th>0</th>\n",
              "      <td>0</td>\n",
              "      <td>0</td>\n",
              "      <td>0</td>\n",
              "      <td>0</td>\n",
              "      <td>1</td>\n",
              "      <td>0</td>\n",
              "      <td>1</td>\n",
              "      <td>0</td>\n",
              "      <td>0</td>\n",
              "      <td>0</td>\n",
              "      <td>0</td>\n",
              "      <td>1</td>\n",
              "      <td>0</td>\n",
              "      <td>0</td>\n",
              "      <td>0</td>\n",
              "      <td>0</td>\n",
              "      <td>0</td>\n",
              "      <td>1</td>\n",
              "      <td>0</td>\n",
              "      <td>0</td>\n",
              "      <td>0</td>\n",
              "      <td>0</td>\n",
              "      <td>0</td>\n",
              "      <td>1</td>\n",
              "      <td>0</td>\n",
              "      <td>0</td>\n",
              "      <td>1</td>\n",
              "      <td>0</td>\n",
              "      <td>1</td>\n",
              "      <td>0</td>\n",
              "      <td>0</td>\n",
              "      <td>0</td>\n",
              "      <td>1</td>\n",
              "      <td>0</td>\n",
              "      <td>0</td>\n",
              "      <td>0</td>\n",
              "      <td>0</td>\n",
              "      <td>0</td>\n",
              "      <td>0</td>\n",
              "      <td>0</td>\n",
              "      <td>...</td>\n",
              "      <td>0</td>\n",
              "      <td>0</td>\n",
              "      <td>1</td>\n",
              "      <td>0</td>\n",
              "      <td>0</td>\n",
              "      <td>0</td>\n",
              "      <td>0</td>\n",
              "      <td>0</td>\n",
              "      <td>0</td>\n",
              "      <td>0</td>\n",
              "      <td>1</td>\n",
              "      <td>0</td>\n",
              "      <td>0</td>\n",
              "      <td>1</td>\n",
              "      <td>0</td>\n",
              "      <td>1</td>\n",
              "      <td>0</td>\n",
              "      <td>0</td>\n",
              "      <td>0</td>\n",
              "      <td>0</td>\n",
              "      <td>1</td>\n",
              "      <td>0</td>\n",
              "      <td>1</td>\n",
              "      <td>0</td>\n",
              "      <td>0</td>\n",
              "      <td>0</td>\n",
              "      <td>0</td>\n",
              "      <td>0</td>\n",
              "      <td>0</td>\n",
              "      <td>0</td>\n",
              "      <td>0</td>\n",
              "      <td>1</td>\n",
              "      <td>0</td>\n",
              "      <td>0</td>\n",
              "      <td>0</td>\n",
              "      <td>0</td>\n",
              "      <td>0</td>\n",
              "      <td>0</td>\n",
              "      <td>1</td>\n",
              "      <td>0</td>\n",
              "    </tr>\n",
              "    <tr>\n",
              "      <th>1</th>\n",
              "      <td>0</td>\n",
              "      <td>0</td>\n",
              "      <td>0</td>\n",
              "      <td>0</td>\n",
              "      <td>1</td>\n",
              "      <td>0</td>\n",
              "      <td>1</td>\n",
              "      <td>0</td>\n",
              "      <td>0</td>\n",
              "      <td>0</td>\n",
              "      <td>0</td>\n",
              "      <td>0</td>\n",
              "      <td>0</td>\n",
              "      <td>0</td>\n",
              "      <td>0</td>\n",
              "      <td>0</td>\n",
              "      <td>1</td>\n",
              "      <td>1</td>\n",
              "      <td>0</td>\n",
              "      <td>0</td>\n",
              "      <td>0</td>\n",
              "      <td>0</td>\n",
              "      <td>0</td>\n",
              "      <td>0</td>\n",
              "      <td>0</td>\n",
              "      <td>0</td>\n",
              "      <td>1</td>\n",
              "      <td>0</td>\n",
              "      <td>0</td>\n",
              "      <td>0</td>\n",
              "      <td>0</td>\n",
              "      <td>0</td>\n",
              "      <td>1</td>\n",
              "      <td>0</td>\n",
              "      <td>0</td>\n",
              "      <td>0</td>\n",
              "      <td>0</td>\n",
              "      <td>0</td>\n",
              "      <td>0</td>\n",
              "      <td>0</td>\n",
              "      <td>...</td>\n",
              "      <td>0</td>\n",
              "      <td>0</td>\n",
              "      <td>1</td>\n",
              "      <td>0</td>\n",
              "      <td>0</td>\n",
              "      <td>0</td>\n",
              "      <td>0</td>\n",
              "      <td>0</td>\n",
              "      <td>0</td>\n",
              "      <td>0</td>\n",
              "      <td>1</td>\n",
              "      <td>0</td>\n",
              "      <td>0</td>\n",
              "      <td>1</td>\n",
              "      <td>0</td>\n",
              "      <td>1</td>\n",
              "      <td>0</td>\n",
              "      <td>0</td>\n",
              "      <td>0</td>\n",
              "      <td>0</td>\n",
              "      <td>1</td>\n",
              "      <td>0</td>\n",
              "      <td>0</td>\n",
              "      <td>1</td>\n",
              "      <td>0</td>\n",
              "      <td>0</td>\n",
              "      <td>0</td>\n",
              "      <td>0</td>\n",
              "      <td>0</td>\n",
              "      <td>0</td>\n",
              "      <td>1</td>\n",
              "      <td>0</td>\n",
              "      <td>0</td>\n",
              "      <td>0</td>\n",
              "      <td>1</td>\n",
              "      <td>0</td>\n",
              "      <td>0</td>\n",
              "      <td>0</td>\n",
              "      <td>0</td>\n",
              "      <td>0</td>\n",
              "    </tr>\n",
              "    <tr>\n",
              "      <th>2</th>\n",
              "      <td>0</td>\n",
              "      <td>0</td>\n",
              "      <td>0</td>\n",
              "      <td>0</td>\n",
              "      <td>0</td>\n",
              "      <td>0</td>\n",
              "      <td>1</td>\n",
              "      <td>0</td>\n",
              "      <td>0</td>\n",
              "      <td>0</td>\n",
              "      <td>0</td>\n",
              "      <td>0</td>\n",
              "      <td>0</td>\n",
              "      <td>0</td>\n",
              "      <td>0</td>\n",
              "      <td>1</td>\n",
              "      <td>0</td>\n",
              "      <td>1</td>\n",
              "      <td>0</td>\n",
              "      <td>0</td>\n",
              "      <td>1</td>\n",
              "      <td>0</td>\n",
              "      <td>0</td>\n",
              "      <td>0</td>\n",
              "      <td>0</td>\n",
              "      <td>0</td>\n",
              "      <td>1</td>\n",
              "      <td>0</td>\n",
              "      <td>0</td>\n",
              "      <td>0</td>\n",
              "      <td>0</td>\n",
              "      <td>0</td>\n",
              "      <td>0</td>\n",
              "      <td>1</td>\n",
              "      <td>0</td>\n",
              "      <td>0</td>\n",
              "      <td>0</td>\n",
              "      <td>0</td>\n",
              "      <td>0</td>\n",
              "      <td>0</td>\n",
              "      <td>...</td>\n",
              "      <td>0</td>\n",
              "      <td>0</td>\n",
              "      <td>1</td>\n",
              "      <td>0</td>\n",
              "      <td>0</td>\n",
              "      <td>0</td>\n",
              "      <td>0</td>\n",
              "      <td>0</td>\n",
              "      <td>0</td>\n",
              "      <td>0</td>\n",
              "      <td>1</td>\n",
              "      <td>0</td>\n",
              "      <td>0</td>\n",
              "      <td>1</td>\n",
              "      <td>0</td>\n",
              "      <td>1</td>\n",
              "      <td>0</td>\n",
              "      <td>0</td>\n",
              "      <td>0</td>\n",
              "      <td>0</td>\n",
              "      <td>1</td>\n",
              "      <td>0</td>\n",
              "      <td>0</td>\n",
              "      <td>1</td>\n",
              "      <td>0</td>\n",
              "      <td>0</td>\n",
              "      <td>0</td>\n",
              "      <td>0</td>\n",
              "      <td>0</td>\n",
              "      <td>0</td>\n",
              "      <td>1</td>\n",
              "      <td>0</td>\n",
              "      <td>0</td>\n",
              "      <td>0</td>\n",
              "      <td>0</td>\n",
              "      <td>0</td>\n",
              "      <td>1</td>\n",
              "      <td>0</td>\n",
              "      <td>0</td>\n",
              "      <td>0</td>\n",
              "    </tr>\n",
              "    <tr>\n",
              "      <th>3</th>\n",
              "      <td>0</td>\n",
              "      <td>0</td>\n",
              "      <td>0</td>\n",
              "      <td>0</td>\n",
              "      <td>1</td>\n",
              "      <td>0</td>\n",
              "      <td>0</td>\n",
              "      <td>1</td>\n",
              "      <td>0</td>\n",
              "      <td>0</td>\n",
              "      <td>0</td>\n",
              "      <td>0</td>\n",
              "      <td>0</td>\n",
              "      <td>0</td>\n",
              "      <td>0</td>\n",
              "      <td>1</td>\n",
              "      <td>0</td>\n",
              "      <td>1</td>\n",
              "      <td>0</td>\n",
              "      <td>0</td>\n",
              "      <td>0</td>\n",
              "      <td>0</td>\n",
              "      <td>0</td>\n",
              "      <td>1</td>\n",
              "      <td>0</td>\n",
              "      <td>0</td>\n",
              "      <td>1</td>\n",
              "      <td>0</td>\n",
              "      <td>1</td>\n",
              "      <td>0</td>\n",
              "      <td>0</td>\n",
              "      <td>0</td>\n",
              "      <td>0</td>\n",
              "      <td>1</td>\n",
              "      <td>0</td>\n",
              "      <td>0</td>\n",
              "      <td>0</td>\n",
              "      <td>0</td>\n",
              "      <td>0</td>\n",
              "      <td>0</td>\n",
              "      <td>...</td>\n",
              "      <td>0</td>\n",
              "      <td>0</td>\n",
              "      <td>1</td>\n",
              "      <td>0</td>\n",
              "      <td>0</td>\n",
              "      <td>0</td>\n",
              "      <td>0</td>\n",
              "      <td>0</td>\n",
              "      <td>0</td>\n",
              "      <td>0</td>\n",
              "      <td>1</td>\n",
              "      <td>0</td>\n",
              "      <td>0</td>\n",
              "      <td>1</td>\n",
              "      <td>0</td>\n",
              "      <td>1</td>\n",
              "      <td>0</td>\n",
              "      <td>0</td>\n",
              "      <td>0</td>\n",
              "      <td>0</td>\n",
              "      <td>1</td>\n",
              "      <td>0</td>\n",
              "      <td>1</td>\n",
              "      <td>0</td>\n",
              "      <td>0</td>\n",
              "      <td>0</td>\n",
              "      <td>0</td>\n",
              "      <td>0</td>\n",
              "      <td>0</td>\n",
              "      <td>0</td>\n",
              "      <td>0</td>\n",
              "      <td>1</td>\n",
              "      <td>0</td>\n",
              "      <td>0</td>\n",
              "      <td>0</td>\n",
              "      <td>0</td>\n",
              "      <td>0</td>\n",
              "      <td>0</td>\n",
              "      <td>1</td>\n",
              "      <td>0</td>\n",
              "    </tr>\n",
              "    <tr>\n",
              "      <th>4</th>\n",
              "      <td>0</td>\n",
              "      <td>0</td>\n",
              "      <td>0</td>\n",
              "      <td>0</td>\n",
              "      <td>1</td>\n",
              "      <td>0</td>\n",
              "      <td>1</td>\n",
              "      <td>0</td>\n",
              "      <td>0</td>\n",
              "      <td>0</td>\n",
              "      <td>1</td>\n",
              "      <td>0</td>\n",
              "      <td>0</td>\n",
              "      <td>0</td>\n",
              "      <td>0</td>\n",
              "      <td>0</td>\n",
              "      <td>0</td>\n",
              "      <td>0</td>\n",
              "      <td>0</td>\n",
              "      <td>0</td>\n",
              "      <td>0</td>\n",
              "      <td>0</td>\n",
              "      <td>1</td>\n",
              "      <td>0</td>\n",
              "      <td>0</td>\n",
              "      <td>0</td>\n",
              "      <td>1</td>\n",
              "      <td>1</td>\n",
              "      <td>0</td>\n",
              "      <td>0</td>\n",
              "      <td>0</td>\n",
              "      <td>0</td>\n",
              "      <td>1</td>\n",
              "      <td>0</td>\n",
              "      <td>0</td>\n",
              "      <td>0</td>\n",
              "      <td>0</td>\n",
              "      <td>0</td>\n",
              "      <td>0</td>\n",
              "      <td>0</td>\n",
              "      <td>...</td>\n",
              "      <td>0</td>\n",
              "      <td>0</td>\n",
              "      <td>1</td>\n",
              "      <td>0</td>\n",
              "      <td>0</td>\n",
              "      <td>0</td>\n",
              "      <td>0</td>\n",
              "      <td>0</td>\n",
              "      <td>0</td>\n",
              "      <td>0</td>\n",
              "      <td>1</td>\n",
              "      <td>0</td>\n",
              "      <td>0</td>\n",
              "      <td>1</td>\n",
              "      <td>0</td>\n",
              "      <td>1</td>\n",
              "      <td>0</td>\n",
              "      <td>0</td>\n",
              "      <td>0</td>\n",
              "      <td>0</td>\n",
              "      <td>0</td>\n",
              "      <td>0</td>\n",
              "      <td>0</td>\n",
              "      <td>1</td>\n",
              "      <td>0</td>\n",
              "      <td>0</td>\n",
              "      <td>0</td>\n",
              "      <td>0</td>\n",
              "      <td>0</td>\n",
              "      <td>0</td>\n",
              "      <td>0</td>\n",
              "      <td>0</td>\n",
              "      <td>0</td>\n",
              "      <td>0</td>\n",
              "      <td>1</td>\n",
              "      <td>0</td>\n",
              "      <td>0</td>\n",
              "      <td>0</td>\n",
              "      <td>0</td>\n",
              "      <td>0</td>\n",
              "    </tr>\n",
              "  </tbody>\n",
              "</table>\n",
              "<p>5 rows × 95 columns</p>\n",
              "</div>"
            ],
            "text/plain": [
              "   cap-shape_1  cap-shape_2  cap-shape_3  ...  habitat_4  habitat_5  habitat_6\n",
              "0            0            0            0  ...          0          1          0\n",
              "1            0            0            0  ...          0          0          0\n",
              "2            0            0            0  ...          0          0          0\n",
              "3            0            0            0  ...          0          1          0\n",
              "4            0            0            0  ...          0          0          0\n",
              "\n",
              "[5 rows x 95 columns]"
            ]
          },
          "metadata": {
            "tags": []
          },
          "execution_count": 11
        }
      ]
    },
    {
      "cell_type": "markdown",
      "metadata": {
        "id": "fWoRdL5rALYh",
        "colab_type": "text"
      },
      "source": [
        "Now, Lets split the dataset as train set and test set."
      ]
    },
    {
      "cell_type": "code",
      "metadata": {
        "id": "l0Ibr0U8AI2S",
        "colab_type": "code",
        "colab": {}
      },
      "source": [
        "from sklearn.model_selection import train_test_split\n",
        "pred_train, pred_test, resp_train, resp_test = train_test_split(pred, resp, test_size=0.1, random_state=0)"
      ],
      "execution_count": 0,
      "outputs": []
    },
    {
      "cell_type": "markdown",
      "metadata": {
        "id": "Lj0p79eeAQYH",
        "colab_type": "text"
      },
      "source": [
        "We are scaling the pred data using StandardScaler library[2]. This library assumes that, In each variable, the data is distributed normally, and then it scales the distribution."
      ]
    },
    {
      "cell_type": "code",
      "metadata": {
        "id": "Ha08cfSmAN2T",
        "colab_type": "code",
        "colab": {}
      },
      "source": [
        "from sklearn.preprocessing import StandardScaler\n",
        "sc = StandardScaler()\n",
        "pred_train = sc.fit_transform(pred_train)\n",
        "pred_test = sc.transform(pred_test)"
      ],
      "execution_count": 0,
      "outputs": []
    },
    {
      "cell_type": "markdown",
      "metadata": {
        "id": "551m3ilAAXCf",
        "colab_type": "text"
      },
      "source": [
        "After scaling the data, we will use PCA to reduce the variables with no. of components 2. Here we are using PCA because PCA could \"transform the set of observations of possibly correlated variables to set of values of linearly uncorrelated variables\"[3]. "
      ]
    },
    {
      "cell_type": "code",
      "metadata": {
        "id": "oVRp8JqWATGA",
        "colab_type": "code",
        "colab": {}
      },
      "source": [
        "from sklearn.decomposition import PCA\n",
        "pca = PCA(n_components=2)\n",
        "pred_train = pca.fit_transform(pred_train)\n",
        "pred_test = pca.transform(pred_test)"
      ],
      "execution_count": 0,
      "outputs": []
    },
    {
      "cell_type": "markdown",
      "metadata": {
        "id": "rdBMvdDbAc4k",
        "colab_type": "text"
      },
      "source": [
        "Let's see how the trained data set look like:\n",
        "\n",
        "Now, we will introduce each supervised learning algorithm we thought to test and see the result."
      ]
    },
    {
      "cell_type": "code",
      "metadata": {
        "id": "1iQnK0_JAaCj",
        "colab_type": "code",
        "colab": {}
      },
      "source": [
        "from sklearn.model_selection import cross_val_predict, cross_val_score\n",
        "from sklearn.metrics import confusion_matrix,classification_report,accuracy_score\n",
        "def print_score(classifier,X_train,y_train,X_test,y_test,train=True):\n",
        "    if train == True:\n",
        "        print(\"Training results:\\n\")\n",
        "        print('Accuracy Score: {0:.4f}\\n'.format(accuracy_score(y_train,classifier.predict(X_train))))\n",
        "        \n",
        "    elif train == False:\n",
        "        print(\"Test results:\\n\")\n",
        "        print('Accuracy Score: {0:.4f}\\n'.format(accuracy_score(y_test,classifier.predict(X_test))))\n",
        "        res = cross_val_score(classifier, X_train, y_train, cv=10, n_jobs=-1, scoring='accuracy')\n",
        "        print('Average Accuracy:\\t{0:.4f}\\n'.format(res.mean()))"
      ],
      "execution_count": 0,
      "outputs": []
    },
    {
      "cell_type": "markdown",
      "metadata": {
        "id": "I9akHnHyAkqf",
        "colab_type": "text"
      },
      "source": [
        "<h4>Testing the Models</h4>\n",
        "\n",
        "1. Logistic Regression:\n",
        "\n",
        "      This algorithm is used when the target variable is categorical[4] or when the target variable is binary. Same as all regression algorithms, this algorithm is also used for prediction analysis. It uses a black-box function called softmax, which describes the relationship between the target variable with the other independent variables[5]."
      ]
    },
    {
      "cell_type": "code",
      "metadata": {
        "id": "xsjAZbktAloe",
        "colab_type": "code",
        "colab": {
          "base_uri": "https://localhost:8080/",
          "height": 105
        },
        "outputId": "0c59fecc-26bd-4d0c-b190-267facf97dea"
      },
      "source": [
        "#let's fit the logistic regression to the train set\n",
        "from sklearn.linear_model import LogisticRegression\n",
        "classifier = LogisticRegression()\n",
        "\n",
        "classifier.fit(pred_train,resp_train)"
      ],
      "execution_count": 19,
      "outputs": [
        {
          "output_type": "execute_result",
          "data": {
            "text/plain": [
              "LogisticRegression(C=1.0, class_weight=None, dual=False, fit_intercept=True,\n",
              "                   intercept_scaling=1, l1_ratio=None, max_iter=100,\n",
              "                   multi_class='warn', n_jobs=None, penalty='l2',\n",
              "                   random_state=None, solver='warn', tol=0.0001, verbose=0,\n",
              "                   warm_start=False)"
            ]
          },
          "metadata": {
            "tags": []
          },
          "execution_count": 19
        }
      ]
    },
    {
      "cell_type": "code",
      "metadata": {
        "id": "IjUETVUPAnEG",
        "colab_type": "code",
        "colab": {
          "base_uri": "https://localhost:8080/",
          "height": 194
        },
        "outputId": "70fd05f6-4df0-4ab1-bfe8-5e7accc6b9f4"
      },
      "source": [
        "print_score(classifier,pred_train,resp_train,pred_test,resp_test,train=True)\n",
        "print_score(classifier,pred_train,resp_train,pred_test,resp_test,train=False)"
      ],
      "execution_count": 20,
      "outputs": [
        {
          "output_type": "stream",
          "text": [
            "Training results:\n",
            "\n",
            "Accuracy Score: 0.9056\n",
            "\n",
            "Test results:\n",
            "\n",
            "Accuracy Score: 0.9028\n",
            "\n",
            "Average Accuracy:\t0.9056\n",
            "\n"
          ],
          "name": "stdout"
        }
      ]
    },
    {
      "cell_type": "markdown",
      "metadata": {
        "id": "hDDb-I6KA0T3",
        "colab_type": "text"
      },
      "source": [
        "2. Support Vector Machine(SVM):\n",
        "\n",
        "     This kind of algorithm is used to decide by creating a line or a hyperplane that separates the data into different classes and make sure the difference between the classes is as vast as possible[6]. It can solve linear and non-linear problems."
      ]
    },
    {
      "cell_type": "code",
      "metadata": {
        "id": "71j_xCKVAoPg",
        "colab_type": "code",
        "colab": {
          "base_uri": "https://localhost:8080/",
          "height": 87
        },
        "outputId": "be31eee4-6959-4683-c970-b58dea492f40"
      },
      "source": [
        "from sklearn.svm import SVC\n",
        "classifier = SVC(kernel='rbf',random_state=42)\n",
        "\n",
        "classifier.fit(pred_train,resp_train)"
      ],
      "execution_count": 21,
      "outputs": [
        {
          "output_type": "execute_result",
          "data": {
            "text/plain": [
              "SVC(C=1.0, cache_size=200, class_weight=None, coef0=0.0,\n",
              "    decision_function_shape='ovr', degree=3, gamma='auto_deprecated',\n",
              "    kernel='rbf', max_iter=-1, probability=False, random_state=42,\n",
              "    shrinking=True, tol=0.001, verbose=False)"
            ]
          },
          "metadata": {
            "tags": []
          },
          "execution_count": 21
        }
      ]
    },
    {
      "cell_type": "code",
      "metadata": {
        "id": "buIs4oZoA4XM",
        "colab_type": "code",
        "colab": {
          "base_uri": "https://localhost:8080/",
          "height": 194
        },
        "outputId": "272567b9-68a3-43f6-960b-5b6d2ce76f0d"
      },
      "source": [
        "print_score(classifier,pred_train,resp_train,pred_test,resp_test,train=True)\n",
        "print_score(classifier,pred_train,resp_train,pred_test,resp_test,train=False)"
      ],
      "execution_count": 22,
      "outputs": [
        {
          "output_type": "stream",
          "text": [
            "Training results:\n",
            "\n",
            "Accuracy Score: 0.9279\n",
            "\n",
            "Test results:\n",
            "\n",
            "Accuracy Score: 0.9262\n",
            "\n",
            "Average Accuracy:\t0.9265\n",
            "\n"
          ],
          "name": "stdout"
        }
      ]
    },
    {
      "cell_type": "markdown",
      "metadata": {
        "id": "Rfi4lJfTA8cy",
        "colab_type": "text"
      },
      "source": [
        "3.K-Nearest Neighbour(K-NN):\n",
        "\n",
        "       This algorithm works based on minimum distance from the query instance to the training samples to determine the k- nearest neighbors. After we gather k nearest neighbors, we take a simple majority of these k-nearest neighbors to be the prediction of the query instance."
      ]
    },
    {
      "cell_type": "code",
      "metadata": {
        "id": "PNySFho_A5DA",
        "colab_type": "code",
        "colab": {
          "base_uri": "https://localhost:8080/",
          "height": 70
        },
        "outputId": "03d0b198-e7b0-468e-8d54-ba7dc6a1b4f0"
      },
      "source": [
        "from sklearn.neighbors import KNeighborsClassifier as KNN\n",
        "\n",
        "classifier = KNN()\n",
        "classifier.fit(pred_train,resp_train)"
      ],
      "execution_count": 23,
      "outputs": [
        {
          "output_type": "execute_result",
          "data": {
            "text/plain": [
              "KNeighborsClassifier(algorithm='auto', leaf_size=30, metric='minkowski',\n",
              "                     metric_params=None, n_jobs=None, n_neighbors=5, p=2,\n",
              "                     weights='uniform')"
            ]
          },
          "metadata": {
            "tags": []
          },
          "execution_count": 23
        }
      ]
    },
    {
      "cell_type": "code",
      "metadata": {
        "id": "luZdvQTvA-9G",
        "colab_type": "code",
        "colab": {
          "base_uri": "https://localhost:8080/",
          "height": 194
        },
        "outputId": "a91df207-f7ed-4dba-b857-9100f57575e2"
      },
      "source": [
        "print_score(classifier,pred_train,resp_train,pred_test,resp_test,train=True)\n",
        "print_score(classifier,pred_train,resp_train,pred_test,resp_test,train=False)"
      ],
      "execution_count": 24,
      "outputs": [
        {
          "output_type": "stream",
          "text": [
            "Training results:\n",
            "\n",
            "Accuracy Score: 0.9427\n",
            "\n",
            "Test results:\n",
            "\n",
            "Accuracy Score: 0.9274\n",
            "\n",
            "Average Accuracy:\t0.9291\n",
            "\n"
          ],
          "name": "stdout"
        }
      ]
    },
    {
      "cell_type": "markdown",
      "metadata": {
        "id": "mjhSEjMPBC76",
        "colab_type": "text"
      },
      "source": [
        "4.Naive-Bayes Classifier:\n",
        "\n",
        "   It is a dominant and straightforward algorithm based on Bayes theorem. It is the best-suited algorithm for textual data analysis classification with millions of records. This algorithm makes predictions on the membership probabilities of each class[7]. The class, which has the highest chance, is mostly used."
      ]
    },
    {
      "cell_type": "code",
      "metadata": {
        "id": "JgS1is5mBAKL",
        "colab_type": "code",
        "colab": {
          "base_uri": "https://localhost:8080/",
          "height": 34
        },
        "outputId": "e134e38f-0342-4cc2-cece-5f6094a03c98"
      },
      "source": [
        "from sklearn.naive_bayes import GaussianNB as NB\n",
        "\n",
        "classifier = NB()\n",
        "classifier.fit(pred_train,resp_train)"
      ],
      "execution_count": 25,
      "outputs": [
        {
          "output_type": "execute_result",
          "data": {
            "text/plain": [
              "GaussianNB(priors=None, var_smoothing=1e-09)"
            ]
          },
          "metadata": {
            "tags": []
          },
          "execution_count": 25
        }
      ]
    },
    {
      "cell_type": "code",
      "metadata": {
        "id": "stlwLaQfBFUr",
        "colab_type": "code",
        "colab": {
          "base_uri": "https://localhost:8080/",
          "height": 194
        },
        "outputId": "87285012-a5a0-4b15-c42f-9ddc6708bd4d"
      },
      "source": [
        "print_score(classifier,pred_train,resp_train,pred_test,resp_test,train=True)\n",
        "print_score(classifier,pred_train,resp_train,pred_test,resp_test,train=False)"
      ],
      "execution_count": 26,
      "outputs": [
        {
          "output_type": "stream",
          "text": [
            "Training results:\n",
            "\n",
            "Accuracy Score: 0.8980\n",
            "\n",
            "Test results:\n",
            "\n",
            "Accuracy Score: 0.8967\n",
            "\n",
            "Average Accuracy:\t0.8977\n",
            "\n"
          ],
          "name": "stdout"
        }
      ]
    },
    {
      "cell_type": "markdown",
      "metadata": {
        "id": "R5O5zIBSBKp4",
        "colab_type": "text"
      },
      "source": [
        "5. Decision Tree:\n",
        "\n",
        "This algorithm is used to create a training set which can be used to predict the target variables by learning decision rules from the train data set.This algorithm is used for both classification and regression as well. In this algorithm, the data is been split, prune and then does the tree selection based on entropy[8]."
      ]
    },
    {
      "cell_type": "code",
      "metadata": {
        "id": "ry0DEjDxBGx9",
        "colab_type": "code",
        "colab": {
          "base_uri": "https://localhost:8080/",
          "height": 123
        },
        "outputId": "519768f8-a8a0-4860-ff78-26aea6faac43"
      },
      "source": [
        "from sklearn.tree import DecisionTreeClassifier as DT\n",
        "\n",
        "classifier = DT(criterion='entropy',random_state=42)\n",
        "classifier.fit(pred_train,resp_train)"
      ],
      "execution_count": 27,
      "outputs": [
        {
          "output_type": "execute_result",
          "data": {
            "text/plain": [
              "DecisionTreeClassifier(class_weight=None, criterion='entropy', max_depth=None,\n",
              "                       max_features=None, max_leaf_nodes=None,\n",
              "                       min_impurity_decrease=0.0, min_impurity_split=None,\n",
              "                       min_samples_leaf=1, min_samples_split=2,\n",
              "                       min_weight_fraction_leaf=0.0, presort=False,\n",
              "                       random_state=42, splitter='best')"
            ]
          },
          "metadata": {
            "tags": []
          },
          "execution_count": 27
        }
      ]
    },
    {
      "cell_type": "code",
      "metadata": {
        "id": "tJLUfhArBNLP",
        "colab_type": "code",
        "colab": {
          "base_uri": "https://localhost:8080/",
          "height": 194
        },
        "outputId": "987cb74e-4875-4c1d-9ef9-3061ee9e3730"
      },
      "source": [
        "print_score(classifier,pred_train,resp_train,pred_test,resp_test,train=True)\n",
        "print_score(classifier,pred_train,resp_train,pred_test,resp_test,train=False)"
      ],
      "execution_count": 28,
      "outputs": [
        {
          "output_type": "stream",
          "text": [
            "Training results:\n",
            "\n",
            "Accuracy Score: 1.0000\n",
            "\n",
            "Test results:\n",
            "\n",
            "Accuracy Score: 0.9065\n",
            "\n",
            "Average Accuracy:\t0.9004\n",
            "\n"
          ],
          "name": "stdout"
        }
      ]
    },
    {
      "cell_type": "markdown",
      "metadata": {
        "id": "G5HKtSKjBRtc",
        "colab_type": "text"
      },
      "source": [
        "Based on the results of testing all the supervised learning models, I got to know that, K-NN models is best suited for this data set."
      ]
    },
    {
      "cell_type": "markdown",
      "metadata": {
        "id": "uQPu31jhBUQ8",
        "colab_type": "text"
      },
      "source": [
        "<h3> Part B&C: Apply the Algorithm & Visualization</h3>\n",
        "\n",
        "K-Nearest Neighbor(K-NN):\n",
        "\n",
        "K-NN is the most used and simple supervised learning algorithm. It works based on minimum distance from the query instance to the training samples to determine the k- nearest neighbors rather than making assumptions on the data, the prediction is retrieved from the data itself. It doesn't need much training phase because it uses the train data during the testing phase. This algorithm is based on feature similarity. The pseudo code of the algorithm as below:\n",
        "\n",
        "1. Load the data\n",
        "2. Based on the no. of neighbors we set, we will initialize K.\n",
        "3. For every example in the data,\n",
        "\n",
        "       i. we will calculate the distance between the data of the current example and the question.\n",
        "       ii. And then, we will add that distance to the index of the instance to an ordered data.\n",
        "4. Sort them in ascending order.\n",
        "5. Pick the K entries which come first from that sorted collection.\n",
        "6. Get the labels of the first k entries.\n",
        "7.Return the mode of the K labels"
      ]
    },
    {
      "cell_type": "markdown",
      "metadata": {
        "id": "vQx8AkkUBgc7",
        "colab_type": "text"
      },
      "source": [
        "The pre-processing of data to use this model had already done. so, we will just use that data and create a model."
      ]
    },
    {
      "cell_type": "code",
      "metadata": {
        "id": "oGFc7zOFBOpa",
        "colab_type": "code",
        "colab": {
          "base_uri": "https://localhost:8080/",
          "height": 296
        },
        "outputId": "8e394850-19d0-4e19-dde7-89f7361e6ae6"
      },
      "source": [
        "pred.head()"
      ],
      "execution_count": 29,
      "outputs": [
        {
          "output_type": "execute_result",
          "data": {
            "text/html": [
              "<div>\n",
              "<style scoped>\n",
              "    .dataframe tbody tr th:only-of-type {\n",
              "        vertical-align: middle;\n",
              "    }\n",
              "\n",
              "    .dataframe tbody tr th {\n",
              "        vertical-align: top;\n",
              "    }\n",
              "\n",
              "    .dataframe thead th {\n",
              "        text-align: right;\n",
              "    }\n",
              "</style>\n",
              "<table border=\"1\" class=\"dataframe\">\n",
              "  <thead>\n",
              "    <tr style=\"text-align: right;\">\n",
              "      <th></th>\n",
              "      <th>cap-shape_1</th>\n",
              "      <th>cap-shape_2</th>\n",
              "      <th>cap-shape_3</th>\n",
              "      <th>cap-shape_4</th>\n",
              "      <th>cap-shape_5</th>\n",
              "      <th>cap-surface_1</th>\n",
              "      <th>cap-surface_2</th>\n",
              "      <th>cap-surface_3</th>\n",
              "      <th>cap-color_1</th>\n",
              "      <th>cap-color_2</th>\n",
              "      <th>cap-color_3</th>\n",
              "      <th>cap-color_4</th>\n",
              "      <th>cap-color_5</th>\n",
              "      <th>cap-color_6</th>\n",
              "      <th>cap-color_7</th>\n",
              "      <th>cap-color_8</th>\n",
              "      <th>cap-color_9</th>\n",
              "      <th>bruises_1</th>\n",
              "      <th>odor_1</th>\n",
              "      <th>odor_2</th>\n",
              "      <th>odor_3</th>\n",
              "      <th>odor_4</th>\n",
              "      <th>odor_5</th>\n",
              "      <th>odor_6</th>\n",
              "      <th>odor_7</th>\n",
              "      <th>odor_8</th>\n",
              "      <th>gill-attachment_1</th>\n",
              "      <th>gill-spacing_1</th>\n",
              "      <th>gill-size_1</th>\n",
              "      <th>gill-color_1</th>\n",
              "      <th>gill-color_2</th>\n",
              "      <th>gill-color_3</th>\n",
              "      <th>gill-color_4</th>\n",
              "      <th>gill-color_5</th>\n",
              "      <th>gill-color_6</th>\n",
              "      <th>gill-color_7</th>\n",
              "      <th>gill-color_8</th>\n",
              "      <th>gill-color_9</th>\n",
              "      <th>gill-color_10</th>\n",
              "      <th>gill-color_11</th>\n",
              "      <th>...</th>\n",
              "      <th>stalk-color-above-ring_5</th>\n",
              "      <th>stalk-color-above-ring_6</th>\n",
              "      <th>stalk-color-above-ring_7</th>\n",
              "      <th>stalk-color-above-ring_8</th>\n",
              "      <th>stalk-color-below-ring_1</th>\n",
              "      <th>stalk-color-below-ring_2</th>\n",
              "      <th>stalk-color-below-ring_3</th>\n",
              "      <th>stalk-color-below-ring_4</th>\n",
              "      <th>stalk-color-below-ring_5</th>\n",
              "      <th>stalk-color-below-ring_6</th>\n",
              "      <th>stalk-color-below-ring_7</th>\n",
              "      <th>stalk-color-below-ring_8</th>\n",
              "      <th>veil-color_1</th>\n",
              "      <th>veil-color_2</th>\n",
              "      <th>veil-color_3</th>\n",
              "      <th>ring-number_1</th>\n",
              "      <th>ring-number_2</th>\n",
              "      <th>ring-type_1</th>\n",
              "      <th>ring-type_2</th>\n",
              "      <th>ring-type_3</th>\n",
              "      <th>ring-type_4</th>\n",
              "      <th>spore-print-color_1</th>\n",
              "      <th>spore-print-color_2</th>\n",
              "      <th>spore-print-color_3</th>\n",
              "      <th>spore-print-color_4</th>\n",
              "      <th>spore-print-color_5</th>\n",
              "      <th>spore-print-color_6</th>\n",
              "      <th>spore-print-color_7</th>\n",
              "      <th>spore-print-color_8</th>\n",
              "      <th>population_1</th>\n",
              "      <th>population_2</th>\n",
              "      <th>population_3</th>\n",
              "      <th>population_4</th>\n",
              "      <th>population_5</th>\n",
              "      <th>habitat_1</th>\n",
              "      <th>habitat_2</th>\n",
              "      <th>habitat_3</th>\n",
              "      <th>habitat_4</th>\n",
              "      <th>habitat_5</th>\n",
              "      <th>habitat_6</th>\n",
              "    </tr>\n",
              "  </thead>\n",
              "  <tbody>\n",
              "    <tr>\n",
              "      <th>0</th>\n",
              "      <td>0</td>\n",
              "      <td>0</td>\n",
              "      <td>0</td>\n",
              "      <td>0</td>\n",
              "      <td>1</td>\n",
              "      <td>0</td>\n",
              "      <td>1</td>\n",
              "      <td>0</td>\n",
              "      <td>0</td>\n",
              "      <td>0</td>\n",
              "      <td>0</td>\n",
              "      <td>1</td>\n",
              "      <td>0</td>\n",
              "      <td>0</td>\n",
              "      <td>0</td>\n",
              "      <td>0</td>\n",
              "      <td>0</td>\n",
              "      <td>1</td>\n",
              "      <td>0</td>\n",
              "      <td>0</td>\n",
              "      <td>0</td>\n",
              "      <td>0</td>\n",
              "      <td>0</td>\n",
              "      <td>1</td>\n",
              "      <td>0</td>\n",
              "      <td>0</td>\n",
              "      <td>1</td>\n",
              "      <td>0</td>\n",
              "      <td>1</td>\n",
              "      <td>0</td>\n",
              "      <td>0</td>\n",
              "      <td>0</td>\n",
              "      <td>1</td>\n",
              "      <td>0</td>\n",
              "      <td>0</td>\n",
              "      <td>0</td>\n",
              "      <td>0</td>\n",
              "      <td>0</td>\n",
              "      <td>0</td>\n",
              "      <td>0</td>\n",
              "      <td>...</td>\n",
              "      <td>0</td>\n",
              "      <td>0</td>\n",
              "      <td>1</td>\n",
              "      <td>0</td>\n",
              "      <td>0</td>\n",
              "      <td>0</td>\n",
              "      <td>0</td>\n",
              "      <td>0</td>\n",
              "      <td>0</td>\n",
              "      <td>0</td>\n",
              "      <td>1</td>\n",
              "      <td>0</td>\n",
              "      <td>0</td>\n",
              "      <td>1</td>\n",
              "      <td>0</td>\n",
              "      <td>1</td>\n",
              "      <td>0</td>\n",
              "      <td>0</td>\n",
              "      <td>0</td>\n",
              "      <td>0</td>\n",
              "      <td>1</td>\n",
              "      <td>0</td>\n",
              "      <td>1</td>\n",
              "      <td>0</td>\n",
              "      <td>0</td>\n",
              "      <td>0</td>\n",
              "      <td>0</td>\n",
              "      <td>0</td>\n",
              "      <td>0</td>\n",
              "      <td>0</td>\n",
              "      <td>0</td>\n",
              "      <td>1</td>\n",
              "      <td>0</td>\n",
              "      <td>0</td>\n",
              "      <td>0</td>\n",
              "      <td>0</td>\n",
              "      <td>0</td>\n",
              "      <td>0</td>\n",
              "      <td>1</td>\n",
              "      <td>0</td>\n",
              "    </tr>\n",
              "    <tr>\n",
              "      <th>1</th>\n",
              "      <td>0</td>\n",
              "      <td>0</td>\n",
              "      <td>0</td>\n",
              "      <td>0</td>\n",
              "      <td>1</td>\n",
              "      <td>0</td>\n",
              "      <td>1</td>\n",
              "      <td>0</td>\n",
              "      <td>0</td>\n",
              "      <td>0</td>\n",
              "      <td>0</td>\n",
              "      <td>0</td>\n",
              "      <td>0</td>\n",
              "      <td>0</td>\n",
              "      <td>0</td>\n",
              "      <td>0</td>\n",
              "      <td>1</td>\n",
              "      <td>1</td>\n",
              "      <td>0</td>\n",
              "      <td>0</td>\n",
              "      <td>0</td>\n",
              "      <td>0</td>\n",
              "      <td>0</td>\n",
              "      <td>0</td>\n",
              "      <td>0</td>\n",
              "      <td>0</td>\n",
              "      <td>1</td>\n",
              "      <td>0</td>\n",
              "      <td>0</td>\n",
              "      <td>0</td>\n",
              "      <td>0</td>\n",
              "      <td>0</td>\n",
              "      <td>1</td>\n",
              "      <td>0</td>\n",
              "      <td>0</td>\n",
              "      <td>0</td>\n",
              "      <td>0</td>\n",
              "      <td>0</td>\n",
              "      <td>0</td>\n",
              "      <td>0</td>\n",
              "      <td>...</td>\n",
              "      <td>0</td>\n",
              "      <td>0</td>\n",
              "      <td>1</td>\n",
              "      <td>0</td>\n",
              "      <td>0</td>\n",
              "      <td>0</td>\n",
              "      <td>0</td>\n",
              "      <td>0</td>\n",
              "      <td>0</td>\n",
              "      <td>0</td>\n",
              "      <td>1</td>\n",
              "      <td>0</td>\n",
              "      <td>0</td>\n",
              "      <td>1</td>\n",
              "      <td>0</td>\n",
              "      <td>1</td>\n",
              "      <td>0</td>\n",
              "      <td>0</td>\n",
              "      <td>0</td>\n",
              "      <td>0</td>\n",
              "      <td>1</td>\n",
              "      <td>0</td>\n",
              "      <td>0</td>\n",
              "      <td>1</td>\n",
              "      <td>0</td>\n",
              "      <td>0</td>\n",
              "      <td>0</td>\n",
              "      <td>0</td>\n",
              "      <td>0</td>\n",
              "      <td>0</td>\n",
              "      <td>1</td>\n",
              "      <td>0</td>\n",
              "      <td>0</td>\n",
              "      <td>0</td>\n",
              "      <td>1</td>\n",
              "      <td>0</td>\n",
              "      <td>0</td>\n",
              "      <td>0</td>\n",
              "      <td>0</td>\n",
              "      <td>0</td>\n",
              "    </tr>\n",
              "    <tr>\n",
              "      <th>2</th>\n",
              "      <td>0</td>\n",
              "      <td>0</td>\n",
              "      <td>0</td>\n",
              "      <td>0</td>\n",
              "      <td>0</td>\n",
              "      <td>0</td>\n",
              "      <td>1</td>\n",
              "      <td>0</td>\n",
              "      <td>0</td>\n",
              "      <td>0</td>\n",
              "      <td>0</td>\n",
              "      <td>0</td>\n",
              "      <td>0</td>\n",
              "      <td>0</td>\n",
              "      <td>0</td>\n",
              "      <td>1</td>\n",
              "      <td>0</td>\n",
              "      <td>1</td>\n",
              "      <td>0</td>\n",
              "      <td>0</td>\n",
              "      <td>1</td>\n",
              "      <td>0</td>\n",
              "      <td>0</td>\n",
              "      <td>0</td>\n",
              "      <td>0</td>\n",
              "      <td>0</td>\n",
              "      <td>1</td>\n",
              "      <td>0</td>\n",
              "      <td>0</td>\n",
              "      <td>0</td>\n",
              "      <td>0</td>\n",
              "      <td>0</td>\n",
              "      <td>0</td>\n",
              "      <td>1</td>\n",
              "      <td>0</td>\n",
              "      <td>0</td>\n",
              "      <td>0</td>\n",
              "      <td>0</td>\n",
              "      <td>0</td>\n",
              "      <td>0</td>\n",
              "      <td>...</td>\n",
              "      <td>0</td>\n",
              "      <td>0</td>\n",
              "      <td>1</td>\n",
              "      <td>0</td>\n",
              "      <td>0</td>\n",
              "      <td>0</td>\n",
              "      <td>0</td>\n",
              "      <td>0</td>\n",
              "      <td>0</td>\n",
              "      <td>0</td>\n",
              "      <td>1</td>\n",
              "      <td>0</td>\n",
              "      <td>0</td>\n",
              "      <td>1</td>\n",
              "      <td>0</td>\n",
              "      <td>1</td>\n",
              "      <td>0</td>\n",
              "      <td>0</td>\n",
              "      <td>0</td>\n",
              "      <td>0</td>\n",
              "      <td>1</td>\n",
              "      <td>0</td>\n",
              "      <td>0</td>\n",
              "      <td>1</td>\n",
              "      <td>0</td>\n",
              "      <td>0</td>\n",
              "      <td>0</td>\n",
              "      <td>0</td>\n",
              "      <td>0</td>\n",
              "      <td>0</td>\n",
              "      <td>1</td>\n",
              "      <td>0</td>\n",
              "      <td>0</td>\n",
              "      <td>0</td>\n",
              "      <td>0</td>\n",
              "      <td>0</td>\n",
              "      <td>1</td>\n",
              "      <td>0</td>\n",
              "      <td>0</td>\n",
              "      <td>0</td>\n",
              "    </tr>\n",
              "    <tr>\n",
              "      <th>3</th>\n",
              "      <td>0</td>\n",
              "      <td>0</td>\n",
              "      <td>0</td>\n",
              "      <td>0</td>\n",
              "      <td>1</td>\n",
              "      <td>0</td>\n",
              "      <td>0</td>\n",
              "      <td>1</td>\n",
              "      <td>0</td>\n",
              "      <td>0</td>\n",
              "      <td>0</td>\n",
              "      <td>0</td>\n",
              "      <td>0</td>\n",
              "      <td>0</td>\n",
              "      <td>0</td>\n",
              "      <td>1</td>\n",
              "      <td>0</td>\n",
              "      <td>1</td>\n",
              "      <td>0</td>\n",
              "      <td>0</td>\n",
              "      <td>0</td>\n",
              "      <td>0</td>\n",
              "      <td>0</td>\n",
              "      <td>1</td>\n",
              "      <td>0</td>\n",
              "      <td>0</td>\n",
              "      <td>1</td>\n",
              "      <td>0</td>\n",
              "      <td>1</td>\n",
              "      <td>0</td>\n",
              "      <td>0</td>\n",
              "      <td>0</td>\n",
              "      <td>0</td>\n",
              "      <td>1</td>\n",
              "      <td>0</td>\n",
              "      <td>0</td>\n",
              "      <td>0</td>\n",
              "      <td>0</td>\n",
              "      <td>0</td>\n",
              "      <td>0</td>\n",
              "      <td>...</td>\n",
              "      <td>0</td>\n",
              "      <td>0</td>\n",
              "      <td>1</td>\n",
              "      <td>0</td>\n",
              "      <td>0</td>\n",
              "      <td>0</td>\n",
              "      <td>0</td>\n",
              "      <td>0</td>\n",
              "      <td>0</td>\n",
              "      <td>0</td>\n",
              "      <td>1</td>\n",
              "      <td>0</td>\n",
              "      <td>0</td>\n",
              "      <td>1</td>\n",
              "      <td>0</td>\n",
              "      <td>1</td>\n",
              "      <td>0</td>\n",
              "      <td>0</td>\n",
              "      <td>0</td>\n",
              "      <td>0</td>\n",
              "      <td>1</td>\n",
              "      <td>0</td>\n",
              "      <td>1</td>\n",
              "      <td>0</td>\n",
              "      <td>0</td>\n",
              "      <td>0</td>\n",
              "      <td>0</td>\n",
              "      <td>0</td>\n",
              "      <td>0</td>\n",
              "      <td>0</td>\n",
              "      <td>0</td>\n",
              "      <td>1</td>\n",
              "      <td>0</td>\n",
              "      <td>0</td>\n",
              "      <td>0</td>\n",
              "      <td>0</td>\n",
              "      <td>0</td>\n",
              "      <td>0</td>\n",
              "      <td>1</td>\n",
              "      <td>0</td>\n",
              "    </tr>\n",
              "    <tr>\n",
              "      <th>4</th>\n",
              "      <td>0</td>\n",
              "      <td>0</td>\n",
              "      <td>0</td>\n",
              "      <td>0</td>\n",
              "      <td>1</td>\n",
              "      <td>0</td>\n",
              "      <td>1</td>\n",
              "      <td>0</td>\n",
              "      <td>0</td>\n",
              "      <td>0</td>\n",
              "      <td>1</td>\n",
              "      <td>0</td>\n",
              "      <td>0</td>\n",
              "      <td>0</td>\n",
              "      <td>0</td>\n",
              "      <td>0</td>\n",
              "      <td>0</td>\n",
              "      <td>0</td>\n",
              "      <td>0</td>\n",
              "      <td>0</td>\n",
              "      <td>0</td>\n",
              "      <td>0</td>\n",
              "      <td>1</td>\n",
              "      <td>0</td>\n",
              "      <td>0</td>\n",
              "      <td>0</td>\n",
              "      <td>1</td>\n",
              "      <td>1</td>\n",
              "      <td>0</td>\n",
              "      <td>0</td>\n",
              "      <td>0</td>\n",
              "      <td>0</td>\n",
              "      <td>1</td>\n",
              "      <td>0</td>\n",
              "      <td>0</td>\n",
              "      <td>0</td>\n",
              "      <td>0</td>\n",
              "      <td>0</td>\n",
              "      <td>0</td>\n",
              "      <td>0</td>\n",
              "      <td>...</td>\n",
              "      <td>0</td>\n",
              "      <td>0</td>\n",
              "      <td>1</td>\n",
              "      <td>0</td>\n",
              "      <td>0</td>\n",
              "      <td>0</td>\n",
              "      <td>0</td>\n",
              "      <td>0</td>\n",
              "      <td>0</td>\n",
              "      <td>0</td>\n",
              "      <td>1</td>\n",
              "      <td>0</td>\n",
              "      <td>0</td>\n",
              "      <td>1</td>\n",
              "      <td>0</td>\n",
              "      <td>1</td>\n",
              "      <td>0</td>\n",
              "      <td>0</td>\n",
              "      <td>0</td>\n",
              "      <td>0</td>\n",
              "      <td>0</td>\n",
              "      <td>0</td>\n",
              "      <td>0</td>\n",
              "      <td>1</td>\n",
              "      <td>0</td>\n",
              "      <td>0</td>\n",
              "      <td>0</td>\n",
              "      <td>0</td>\n",
              "      <td>0</td>\n",
              "      <td>0</td>\n",
              "      <td>0</td>\n",
              "      <td>0</td>\n",
              "      <td>0</td>\n",
              "      <td>0</td>\n",
              "      <td>1</td>\n",
              "      <td>0</td>\n",
              "      <td>0</td>\n",
              "      <td>0</td>\n",
              "      <td>0</td>\n",
              "      <td>0</td>\n",
              "    </tr>\n",
              "  </tbody>\n",
              "</table>\n",
              "<p>5 rows × 95 columns</p>\n",
              "</div>"
            ],
            "text/plain": [
              "   cap-shape_1  cap-shape_2  cap-shape_3  ...  habitat_4  habitat_5  habitat_6\n",
              "0            0            0            0  ...          0          1          0\n",
              "1            0            0            0  ...          0          0          0\n",
              "2            0            0            0  ...          0          0          0\n",
              "3            0            0            0  ...          0          1          0\n",
              "4            0            0            0  ...          0          0          0\n",
              "\n",
              "[5 rows x 95 columns]"
            ]
          },
          "metadata": {
            "tags": []
          },
          "execution_count": 29
        }
      ]
    },
    {
      "cell_type": "code",
      "metadata": {
        "id": "qLYUTXDWBihL",
        "colab_type": "code",
        "colab": {
          "base_uri": "https://localhost:8080/",
          "height": 34
        },
        "outputId": "00c54d70-0736-455e-a99c-a6f711508ee3"
      },
      "source": [
        "resp"
      ],
      "execution_count": 30,
      "outputs": [
        {
          "output_type": "execute_result",
          "data": {
            "text/plain": [
              "array([1, 0, 0, ..., 0, 1, 0])"
            ]
          },
          "metadata": {
            "tags": []
          },
          "execution_count": 30
        }
      ]
    },
    {
      "cell_type": "markdown",
      "metadata": {
        "id": "7qo0ngk9BmL2",
        "colab_type": "text"
      },
      "source": [
        "To initialize K, What would be the optimal K value?. Let figure out that."
      ]
    },
    {
      "cell_type": "code",
      "metadata": {
        "id": "XQGL2Y2TBkIM",
        "colab_type": "code",
        "colab": {}
      },
      "source": [
        "from sklearn.neighbors import KNeighborsClassifier\n",
        "from sklearn.model_selection import cross_val_score\n",
        "\n",
        "# creating odd list of K for KNN\n",
        "myList = list(range(1,200))\n",
        "\n",
        "# empty list that will hold cv scores\n",
        "cv_scores = []\n",
        "\n",
        "# perform 10-fold cross validation\n",
        "for k in myList[::2]:\n",
        "    knn = KNeighborsClassifier(n_neighbors=k)\n",
        "    scores = cross_val_score(knn, pred_train, resp_train, cv=10, scoring='accuracy')\n",
        "    cv_scores.append(scores.mean())"
      ],
      "execution_count": 0,
      "outputs": []
    },
    {
      "cell_type": "code",
      "metadata": {
        "id": "1Wz1y0lPBo9L",
        "colab_type": "code",
        "colab": {
          "base_uri": "https://localhost:8080/",
          "height": 303
        },
        "outputId": "a9d18605-2313-4980-e1cb-fe672998a992"
      },
      "source": [
        "from matplotlib import pyplot as plt\n",
        "# changing to misclassification error\n",
        "MSE = [1 - x for x in cv_scores]\n",
        "\n",
        "# determining best k\n",
        "optimal_k = myList[::2][MSE.index(min(MSE))]\n",
        "print (\"The optimal number of neighbors is %d\" % optimal_k)\n",
        "\n",
        "# plot misclassification error vs k\n",
        "plt.plot(myList[::2], MSE)\n",
        "plt.xlabel('Number of Neighbors K')\n",
        "plt.ylabel('Misclassification Error')\n",
        "plt.show()"
      ],
      "execution_count": 33,
      "outputs": [
        {
          "output_type": "stream",
          "text": [
            "The optimal number of neighbors is 15\n"
          ],
          "name": "stdout"
        },
        {
          "output_type": "display_data",
          "data": {
            "image/png": "[encoded data removed]",
            "text/plain": [
              "<Figure size 432x288 with 1 Axes>"
            ]
          },
          "metadata": {
            "tags": []
          }
        }
      ]
    },
    {
      "cell_type": "markdown",
      "metadata": {
        "id": "Mx4baEqXCJ-p",
        "colab_type": "text"
      },
      "source": [
        "Now, lets continue to implement our algorithm to our data set by specifying the no. of neighbors to 15 as it is the optimal no. of neighbors."
      ]
    },
    {
      "cell_type": "code",
      "metadata": {
        "id": "oyza_BCzCGaw",
        "colab_type": "code",
        "colab": {
          "base_uri": "https://localhost:8080/",
          "height": 34
        },
        "outputId": "10b4c85c-ee86-4c50-9c22-e4cc81434b5c"
      },
      "source": [
        "from sklearn.neighbors import KNeighborsClassifier\n",
        "classifier =  KNeighborsClassifier(n_neighbors=15,p=2, metric='minkowski')\n",
        "classifier.fit(pred_train,resp_train)\n",
        "resp_pred = classifier.predict(pred_test)\n",
        "accuracy_score(resp_test,resp_pred)"
      ],
      "execution_count": 34,
      "outputs": [
        {
          "output_type": "execute_result",
          "data": {
            "text/plain": [
              "0.936"
            ]
          },
          "metadata": {
            "tags": []
          },
          "execution_count": 34
        }
      ]
    },
    {
      "cell_type": "markdown",
      "metadata": {
        "id": "kih_OjW5CSU8",
        "colab_type": "text"
      },
      "source": [
        "Let's see What factors or features to be considered for surviving on mushrooms?"
      ]
    },
    {
      "cell_type": "code",
      "metadata": {
        "id": "lTMfWx4qCMt9",
        "colab_type": "code",
        "colab": {
          "base_uri": "https://localhost:8080/",
          "height": 1705
        },
        "outputId": "3d55e5ee-afca-4fdd-a701-ff4c00b777fd"
      },
      "source": [
        "n_features = pred.shape[1]\n",
        "clf = KNeighborsClassifier()\n",
        "feature_score = []\n",
        "# calculating the score to each feature.\n",
        "for i in range(n_features):\n",
        "    pred_feature= np.reshape(pred.iloc[:,i:i+1],-1,1)\n",
        "    scores = cross_val_score(clf, pred_feature, resp)\n",
        "    feature_score.append(scores.mean())\n",
        "    print('%40s        %g' % (pred.columns[i], scores.mean()))"
      ],
      "execution_count": 45,
      "outputs": [
        {
          "output_type": "stream",
          "text": [
            "                             cap-shape_1        0.518464\n",
            "                             cap-shape_2        0.528923\n",
            "                             cap-shape_3        0.563777\n",
            "                             cap-shape_4        0.517971\n",
            "                             cap-shape_5        0.482275\n",
            "                           cap-surface_1        0.517971\n",
            "                           cap-surface_2        0.515533\n",
            "                           cap-surface_3        0.505908\n",
            "                             cap-color_1        0.517971\n",
            "                             cap-color_2        0.502831\n",
            "                             cap-color_3        0.494707\n",
            "                             cap-color_4        0.492747\n",
            "                             cap-color_5        0.514153\n",
            "                             cap-color_6        0.517971\n",
            "                             cap-color_7        0.517971\n",
            "                             cap-color_8        0.517971\n",
            "                             cap-color_9        0.551455\n",
            "                               bruises_1        0.517971\n",
            "                                  odor_1        0.541597\n",
            "                                  odor_2        0.783831\n",
            "                                  odor_3        0.517971\n",
            "                                  odor_4        0.517971\n",
            "                                  odor_5        0.584047\n",
            "                                  odor_6        0.517971\n",
            "                                  odor_7        0.588892\n",
            "                                  odor_8        0.588891\n",
            "                       gill-attachment_1        0.517971\n",
            "                          gill-spacing_1        0.517971\n",
            "                             gill-size_1        0.756319\n",
            "                            gill-color_1        0.517971\n",
            "                            gill-color_2        0.549471\n",
            "                            gill-color_3        0.559322\n",
            "                            gill-color_4        0.517971\n",
            "                            gill-color_5        0.517971\n",
            "                            gill-color_6        0.517971\n",
            "                            gill-color_7        0.474632\n",
            "                            gill-color_8        0.517971\n",
            "                            gill-color_9        0.517971\n",
            "                           gill-color_10        0.517971\n",
            "                           gill-color_11        0.517971\n",
            "                           stalk-shape_1        0.579987\n",
            "                            stalk-root_1        0.487568\n",
            "                            stalk-root_2        0.517971\n",
            "                            stalk-root_3        0.517971\n",
            "                            stalk-root_4        0.517971\n",
            "              stalk-surface-above-ring_1        0.774481\n",
            "              stalk-surface-above-ring_2        0.680548\n",
            "              stalk-surface-above-ring_3        0.517971\n",
            "              stalk-surface-below-ring_1        0.766109\n",
            "              stalk-surface-below-ring_2        0.570266\n",
            "              stalk-surface-below-ring_3        0.517971\n",
            "                stalk-color-above-ring_1        0.517971\n",
            "                stalk-color-above-ring_2        0.517971\n",
            "                stalk-color-above-ring_3        0.517971\n",
            "                stalk-color-above-ring_4        0.569164\n",
            "                stalk-color-above-ring_5        0.517971\n",
            "                stalk-color-above-ring_6        0.571783\n",
            "                stalk-color-above-ring_7        0.411044\n",
            "                stalk-color-above-ring_8        0.517971\n",
            "                stalk-color-below-ring_1        0.517971\n",
            "                stalk-color-below-ring_2        0.517971\n",
            "                stalk-color-below-ring_3        0.517971\n",
            "                stalk-color-below-ring_4        0.565223\n",
            "                stalk-color-below-ring_5        0.517971\n",
            "                stalk-color-below-ring_6        0.570921\n",
            "                stalk-color-below-ring_7        0.521172\n",
            "                stalk-color-below-ring_8        0.520926\n",
            "                            veil-color_1        0.517971\n",
            "                            veil-color_2        0.517971\n",
            "                            veil-color_3        0.517971\n",
            "                           ring-number_1        0.457388\n",
            "                           ring-number_2        0.452955\n",
            "                             ring-type_1        0.517971\n",
            "                             ring-type_2        0.677461\n",
            "                             ring-type_3        0.517971\n",
            "                             ring-type_4        0.563253\n",
            "                     spore-print-color_1        0.707\n",
            "                     spore-print-color_2        0.517971\n",
            "                     spore-print-color_3        0.517971\n",
            "                     spore-print-color_4        0.517971\n",
            "                     spore-print-color_5        0.526834\n",
            "                     spore-print-color_6        0.512188\n",
            "                     spore-print-color_7        0.609584\n",
            "                     spore-print-color_8        0.517971\n",
            "                            population_1        0.487926\n",
            "                            population_2        0.517971\n",
            "                            population_3        0.512432\n",
            "                            population_4        0.565731\n",
            "                            population_5        0.517971\n",
            "                               habitat_1        0.517971\n",
            "                               habitat_2        0.540382\n",
            "                               habitat_3        0.488071\n",
            "                               habitat_4        0.625318\n",
            "                               habitat_5        0.524247\n",
            "                               habitat_6        0.517971\n"
          ],
          "name": "stdout"
        }
      ]
    },
    {
      "cell_type": "markdown",
      "metadata": {
        "id": "B5v4tmlmCZPi",
        "colab_type": "text"
      },
      "source": [
        "These are the most considerable factors to identify which mushrooms are poisonous."
      ]
    },
    {
      "cell_type": "code",
      "metadata": {
        "id": "8xWIcG5mCU1s",
        "colab_type": "code",
        "colab": {
          "base_uri": "https://localhost:8080/",
          "height": 123
        },
        "outputId": "144f12c4-047b-4142-b55c-78b89334988a"
      },
      "source": [
        "#Sorting the selected ordered collection in an ascending order\n",
        "imp_features = pd.Series(data = feature_score, index = pred.columns)\n",
        "imp_features.sort_values(ascending=True, inplace=True)\n",
        "imp_features[imp_features>0.7]"
      ],
      "execution_count": 36,
      "outputs": [
        {
          "output_type": "execute_result",
          "data": {
            "text/plain": [
              "spore-print-color_1           0.707000\n",
              "gill-size_1                   0.756319\n",
              "stalk-surface-below-ring_1    0.766109\n",
              "stalk-surface-above-ring_1    0.774481\n",
              "odor_2                        0.783831\n",
              "dtype: float64"
            ]
          },
          "metadata": {
            "tags": []
          },
          "execution_count": 36
        }
      ]
    },
    {
      "cell_type": "markdown",
      "metadata": {
        "id": "lnJYayFJCePX",
        "colab_type": "text"
      },
      "source": [
        "We got to know which top factors to identify whether a mushroom is poisonous or not. Let's see, to survive which mushrooms are edible and which are poisonous. To identify that, let's group the mushrooms that are edible and poisonous."
      ]
    },
    {
      "cell_type": "code",
      "metadata": {
        "id": "R5LNLnIaCbsr",
        "colab_type": "code",
        "colab": {}
      },
      "source": [
        "imp_columns = imp_features[imp_features>0.7].index.values\n",
        "final_pr= pd.concat([pred,pd.DataFrame(resp,columns=['class'])], axis=1)\n",
        "grouped = final_pr.groupby('class')"
      ],
      "execution_count": 0,
      "outputs": []
    },
    {
      "cell_type": "code",
      "metadata": {
        "id": "x5Ak9G8WChhi",
        "colab_type": "code",
        "colab": {
          "base_uri": "https://localhost:8080/",
          "height": 123
        },
        "outputId": "59d34b5b-df89-4bdf-8d72-9e97a6d0f454"
      },
      "source": [
        "# Edible group of mushrooms\n",
        "grouped.get_group(0)[imp_columns].sum()"
      ],
      "execution_count": 38,
      "outputs": [
        {
          "output_type": "execute_result",
          "data": {
            "text/plain": [
              "spore-print-color_1            48\n",
              "gill-size_1                   288\n",
              "stalk-surface-below-ring_1    144\n",
              "stalk-surface-above-ring_1    144\n",
              "odor_2                          0\n",
              "dtype: int64"
            ]
          },
          "metadata": {
            "tags": []
          },
          "execution_count": 38
        }
      ]
    },
    {
      "cell_type": "code",
      "metadata": {
        "id": "qLM1Lld0CjlW",
        "colab_type": "code",
        "colab": {
          "base_uri": "https://localhost:8080/",
          "height": 123
        },
        "outputId": "600f0a50-15aa-4d03-cb69-135bc0f93433"
      },
      "source": [
        "# Poisonous group of mushrooms\n",
        "grouped.get_group(1)[imp_columns].sum()"
      ],
      "execution_count": 39,
      "outputs": [
        {
          "output_type": "execute_result",
          "data": {
            "text/plain": [
              "spore-print-color_1           1584\n",
              "gill-size_1                   2224\n",
              "stalk-surface-below-ring_1    2160\n",
              "stalk-surface-above-ring_1    2228\n",
              "odor_2                        2160\n",
              "dtype: int64"
            ]
          },
          "metadata": {
            "tags": []
          },
          "execution_count": 39
        }
      ]
    },
    {
      "cell_type": "markdown",
      "metadata": {
        "id": "z9FGWZwOC33R",
        "colab_type": "text"
      },
      "source": [
        "So, we got to know that, if the mushrooms indicate these factors, then those are poisonous. So, to survive on mushrooms, we should avoid them. The factors are: stalk surface above or below the ring is silky, the odor is foul, Gill Size is narrow, Spore prints are chocolatey in color."
      ]
    },
    {
      "cell_type": "markdown",
      "metadata": {
        "id": "G14wF5ebC6Oz",
        "colab_type": "text"
      },
      "source": [
        "<h3>Part D: Discussion</h3>\n",
        "\n",
        "K-NN is mostly used for the classification. As our data is categorical, K-NN is the best-suited algorithm. If we see the results of testing the 5 supervised learning algorithms, K-NN provided better accuracy rate among all. It is best suited for our data set and could predict the data. According to our data, it proved which mushrooms are poisonous or edible."
      ]
    },
    {
      "cell_type": "markdown",
      "metadata": {
        "id": "PyDiEaknC86v",
        "colab_type": "text"
      },
      "source": [
        "<h3>Part E: Summary</h3>\n",
        "\n",
        "TO conclude, The goal of the notebook is to know which is the best-suited algorithm to identify which mushroom is edible and which is poisonous. To achieve that, I have preprocessed the data as most of the data is categorical, I have created the dummy variables and performed PCA. Later, I have tested a few supervised learning algorithms and found the best algorithm(K-NN) that suited for the data. Later, I have implemented the K-NN algorithm by following the pseudo-code of K-NN and got the factors based which we could identify which mushroom is edible and which is poisonous.\n",
        "\n",
        "No other algorithm could able to predict with more accuracy rate than K-NN to this data set Whereas; Logistic regression would be the second-best option to use on this data set."
      ]
    },
    {
      "cell_type": "markdown",
      "metadata": {
        "id": "zYsCemMnDCbQ",
        "colab_type": "text"
      },
      "source": [
        "<h3> References</h3>\n",
        "1. Analytics, B. and Codes), C. (2019). Essentials of Machine Learning Algorithms (with Python and R Codes). [online] Analytics Vidhya. Available at: https://www.analyticsvidhya.com/blog/2017/09/common-machine-learning-algorithms/ [Accessed 24 Aug. 2019].\n",
        "\n",
        "2.Keen, B. (2019). Feature Scaling with scikit-learn – Ben Alex Keen. [online] Benalexkeen.com. Available at: http://benalexkeen.com/feature-scaling-with-scikit-learn/ [Accessed 24 Aug. 2019].\n",
        "\n",
        "3.wikipedia, w. (2019). Principal component analysis. [online] En.wikipedia.org. Available at: https://en.wikipedia.org/wiki/Principal_component_analysis [Accessed 24 Aug. 2019].\n",
        "\n",
        "4.Swaminathan, S. (2019). Logistic Regression — Detailed Overview. [online] Medium. Available at: https://towardsdatascience.com/logistic-regression-detailed-overview-46c4da4303bc [Accessed 24 Aug. 2019].\n",
        "\n",
        "5.Solutions, S. (2019). What is Logistic Regression? - Statistics Solutions. [online] Statistics Solutions. Available at: https://www.statisticssolutions.com/what-is-logistic-regression/ [Accessed 24 Aug. 2019].\n",
        "\n",
        "6.Pupale, R. (2019). Support Vector Machines(SVM) — An Overview. [online] Medium. Available at: https://towardsdatascience.com/https-medium-com-pupalerushikesh-svm-f4b42800e989 [Accessed 24 Aug. 2019].\n",
        "\n",
        "7.Saxena, R. (2019). How the Naive Bayes Classifier works in Machine Learning. [online] Dataaspirant. Available at: https://dataaspirant.com/2017/02/06/naive-bayes-classifier-machine-learning/ [Accessed 24 Aug. 2019].\n",
        "\n",
        "8.Sehra, C. (2019). Decision Trees Explained Easily. [online] Medium. Available at: https://medium.com/@chiragsehra42/decision-trees-explained-easily-28f23241248 [Accessed 24 Aug. 2019].\n",
        "\n",
        "9.Harrison, O. (2019). Machine Learning Basics with the K-Nearest Neighbors Algorithm. [online] Medium. Available at: https://towardsdatascience.com/machine-learning-basics-with-the-k-nearest-neighbors-algorithm-6a6e71d01761 [Accessed 24 Aug. 2019]."
      ]
    }
  ]
}